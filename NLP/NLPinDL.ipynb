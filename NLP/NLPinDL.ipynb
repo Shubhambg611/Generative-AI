{
 "cells": [
  {
   "cell_type": "markdown",
   "metadata": {},
   "source": [
    "# CNN \n",
    "\n",
    "data is in the form of images\n",
    "* image classification \n",
    "* object dection\n",
    "\n",
    "Seqential data :  ex \n",
    "- translator \n",
    "- chat bot\n",
    "- Auto suggestion\n",
    "- text generation\n"
   ]
  },
  {
   "cell_type": "code",
   "execution_count": null,
   "metadata": {},
   "outputs": [],
   "source": []
  }
 ],
 "metadata": {
  "language_info": {
   "name": "python"
  }
 },
 "nbformat": 4,
 "nbformat_minor": 2
}
