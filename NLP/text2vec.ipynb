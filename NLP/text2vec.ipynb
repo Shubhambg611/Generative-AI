{
 "cells": [
  {
   "cell_type": "markdown",
   "metadata": {},
   "source": [
    "# Text to Vecotor\n",
    "1. One hot encoding\n",
    "2. bag of Words\n",
    "3. TFIDF\n",
    "4. word2vec\n",
    "5. Avg word2vec"
   ]
  },
  {
   "cell_type": "markdown",
   "metadata": {},
   "source": []
  }
 ],
 "metadata": {
  "kernelspec": {
   "display_name": "gen",
   "language": "python",
   "name": "python3"
  },
  "language_info": {
   "name": "python",
   "version": "3.11.0"
  }
 },
 "nbformat": 4,
 "nbformat_minor": 2
}
