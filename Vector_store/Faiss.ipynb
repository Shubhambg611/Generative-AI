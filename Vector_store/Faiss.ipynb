{
 "cells": [
  {
   "cell_type": "markdown",
   "metadata": {},
   "source": [
    "**Faiss**\n",
    "\n",
    "Facebook AI Similarity Search (Faiss) is a library for efficient similarity search and clustering of dense vectors. It contains algorithms that search in sets of vectors of any size, up to ones that possibly do not fit in RAM. It also contains supporting code for evaluation and parameter tuning.\n"
   ]
  },
  {
   "cell_type": "code",
   "execution_count": 1,
   "metadata": {},
   "outputs": [],
   "source": [
    "from langchain_community.document_loaders import TextLoader\n",
    "from langchain_community.vectorstores import FAISS\n",
    "from langchain_community.embeddings import OllamaEmbeddings\n",
    "from langchain_text_splitters import CharacterTextSplitter"
   ]
  },
  {
   "cell_type": "code",
   "execution_count": 2,
   "metadata": {},
   "outputs": [],
   "source": [
    "loader = TextLoader(\"/media/shubham/shubham SSD2/Generative-AI/Data/speech.txt\")"
   ]
  },
  {
   "cell_type": "code",
   "execution_count": 3,
   "metadata": {},
   "outputs": [],
   "source": [
    "documents = loader.load()\n",
    "text_splitter = CharacterTextSplitter(chunk_size = 1000,chunk_overlap = 30)"
   ]
  },
  {
   "cell_type": "code",
   "execution_count": 4,
   "metadata": {},
   "outputs": [],
   "source": [
    "docs = text_splitter.split_documents(documents)"
   ]
  },
  {
   "cell_type": "code",
   "execution_count": 5,
   "metadata": {},
   "outputs": [
    {
     "data": {
      "text/plain": [
       "[Document(metadata={'source': '/media/shubham/shubham SSD2/Generative-AI/Data/speech.txt'}, page_content='**Title: Embracing Challenges: Our Path to Growth**\\n\\nLadies and gentlemen, esteemed guests,\\n\\nToday, I stand before you to discuss a powerful theme that resonates with each of us: overcoming challenges.\\n\\nLife is a series of peaks and valleys, and it’s during the valleys that true character is revealed.\\n\\nEvery challenge we face is an opportunity to grow stronger, wiser, and more resilient.\\n\\nThink of the obstacles you’ve encountered—each one has shaped you in ways you may not fully realize.\\n\\nIt’s easy to feel daunted by difficulties, but remember: discomfort breeds progress.\\n\\nWhen we push past our limits, we discover the incredible potential within us.\\n\\nConsider the story of Thomas Edison, who famously said, “I have not failed; I’ve just found 10,000 ways that won’t work.”\\n\\nHis relentless pursuit of innovation exemplifies how setbacks can lead to success.\\n\\nEach stumble on our journey is a lesson in disguise.\\n\\nIt teaches us to adapt, to innovate, and to keep moving forward.'),\n",
       " Document(metadata={'source': '/media/shubham/shubham SSD2/Generative-AI/Data/speech.txt'}, page_content=\"Take, for example, the journey of Nelson Mandela, who faced unimaginable challenges.\\n\\nDespite 27 years of imprisonment, he emerged not with vengeance but with a vision for unity.\\n\\nHis story is a testament to the strength of the human spirit.\\n\\nLet us not forget the role of community in overcoming challenges.\\n\\nTogether, we can shoulder burdens and uplift one another.\\n\\nIn moments of struggle, we often discover allies who inspire us to keep going.\\n\\nRemember, every significant achievement was once considered impossible.\\n\\nFrom landing on the moon to advances in technology, all were born from facing challenges head-on.\\n\\nAs we navigate our personal and professional lives, let’s embrace failure as a stepping stone.\\n\\nEvery great leader has faced adversity; it's how they responded that defined their legacy.\\n\\nWhen we learn to see failures as feedback, we unlock new possibilities.\\n\\nSurround yourself with those who uplift and challenge you.\\n\\nSeek mentors who can guide you through turbulent times.\"),\n",
       " Document(metadata={'source': '/media/shubham/shubham SSD2/Generative-AI/Data/speech.txt'}, page_content=\"The path to success is rarely linear; it’s often a winding road filled with detours.\\n\\nBut with determination and perseverance, every roadblock can be turned into a breakthrough.\\n\\nLet’s cultivate a mindset of resilience in ourselves and others.\\n\\nLet’s celebrate small victories as we strive for larger aspirations.\\n\\nAnd let's remind each other that it's okay to ask for help when the climb gets too steep.\\n\\nIn the fabric of life, challenges are the threads that create depth and vibrancy.\\n\\nAs we face our own challenges, let’s hold our heads high and move forward together.\\n\\nIn conclusion, embrace challenges as crucial parts of your journey.\\n\\nFor within them lie the seeds of our greatest achievements.\\n\\nThank you for your time, and let’s continue to inspire and support one another in this beautiful, complex journey of life.\")]"
      ]
     },
     "execution_count": 5,
     "metadata": {},
     "output_type": "execute_result"
    }
   ],
   "source": [
    "docs"
   ]
  },
  {
   "cell_type": "code",
   "execution_count": 7,
   "metadata": {},
   "outputs": [
    {
     "name": "stderr",
     "output_type": "stream",
     "text": [
      "/tmp/ipykernel_33526/321720030.py:3: LangChainDeprecationWarning: The class `HuggingFaceEmbeddings` was deprecated in LangChain 0.2.2 and will be removed in 1.0. An updated version of the class exists in the :class:`~langchain-huggingface package and should be used instead. To use it run `pip install -U :class:`~langchain-huggingface` and import as `from :class:`~langchain_huggingface import HuggingFaceEmbeddings``.\n",
      "  embeddings = HuggingFaceEmbeddings(model_name=\"all-MiniLM-L6-v2\")\n",
      "/home/shubham/anaconda3/envs/gen/lib/python3.11/site-packages/tqdm/auto.py:21: TqdmWarning: IProgress not found. Please update jupyter and ipywidgets. See https://ipywidgets.readthedocs.io/en/stable/user_install.html\n",
      "  from .autonotebook import tqdm as notebook_tqdm\n",
      "2025-01-21 16:55:59.478448: E external/local_xla/xla/stream_executor/cuda/cuda_fft.cc:477] Unable to register cuFFT factory: Attempting to register factory for plugin cuFFT when one has already been registered\n",
      "WARNING: All log messages before absl::InitializeLog() is called are written to STDERR\n",
      "E0000 00:00:1737458759.491162   33526 cuda_dnn.cc:8310] Unable to register cuDNN factory: Attempting to register factory for plugin cuDNN when one has already been registered\n",
      "E0000 00:00:1737458759.494971   33526 cuda_blas.cc:1418] Unable to register cuBLAS factory: Attempting to register factory for plugin cuBLAS when one has already been registered\n",
      "2025-01-21 16:55:59.508863: I tensorflow/core/platform/cpu_feature_guard.cc:210] This TensorFlow binary is optimized to use available CPU instructions in performance-critical operations.\n",
      "To enable the following instructions: AVX2 FMA, in other operations, rebuild TensorFlow with the appropriate compiler flags.\n"
     ]
    },
    {
     "data": {
      "text/plain": [
       "<langchain_community.vectorstores.faiss.FAISS at 0x7a73f3bb1bd0>"
      ]
     },
     "execution_count": 7,
     "metadata": {},
     "output_type": "execute_result"
    }
   ],
   "source": [
    "from langchain.embeddings import HuggingFaceEmbeddings\n",
    "\n",
    "embeddings = HuggingFaceEmbeddings(model_name=\"all-MiniLM-L6-v2\")\n",
    "db = FAISS.from_documents(docs, embeddings)\n",
    "db"
   ]
  },
  {
   "cell_type": "code",
   "execution_count": 11,
   "metadata": {},
   "outputs": [
    {
     "data": {
      "text/plain": [
       "\"Take, for example, the journey of Nelson Mandela, who faced unimaginable challenges.\\n\\nDespite 27 years of imprisonment, he emerged not with vengeance but with a vision for unity.\\n\\nHis story is a testament to the strength of the human spirit.\\n\\nLet us not forget the role of community in overcoming challenges.\\n\\nTogether, we can shoulder burdens and uplift one another.\\n\\nIn moments of struggle, we often discover allies who inspire us to keep going.\\n\\nRemember, every significant achievement was once considered impossible.\\n\\nFrom landing on the moon to advances in technology, all were born from facing challenges head-on.\\n\\nAs we navigate our personal and professional lives, let’s embrace failure as a stepping stone.\\n\\nEvery great leader has faced adversity; it's how they responded that defined their legacy.\\n\\nWhen we learn to see failures as feedback, we unlock new possibilities.\\n\\nSurround yourself with those who uplift and challenge you.\\n\\nSeek mentors who can guide you through turbulent times.\""
      ]
     },
     "execution_count": 11,
     "metadata": {},
     "output_type": "execute_result"
    }
   ],
   "source": [
    "### querying vector\n",
    "query = \"the journey of Nelson Mandela, who faced what?\"\n",
    "docs = db.similarity_search(query)\n",
    "docs[0].page_content\n"
   ]
  },
  {
   "cell_type": "markdown",
   "metadata": {},
   "source": [
    "\n",
    "# **As a Retriever**\n",
    "\n",
    "#### We can also convert the vectorstore into a Retriever class. This allows us to easily use it in other LangChain methods, which largely work with retrievers.\n"
   ]
  },
  {
   "cell_type": "code",
   "execution_count": 12,
   "metadata": {},
   "outputs": [
    {
     "data": {
      "text/plain": [
       "[Document(id='b0d7be7d-1584-4350-a730-544f3b92d5a2', metadata={'source': '/media/shubham/shubham SSD2/Generative-AI/Data/speech.txt'}, page_content=\"Take, for example, the journey of Nelson Mandela, who faced unimaginable challenges.\\n\\nDespite 27 years of imprisonment, he emerged not with vengeance but with a vision for unity.\\n\\nHis story is a testament to the strength of the human spirit.\\n\\nLet us not forget the role of community in overcoming challenges.\\n\\nTogether, we can shoulder burdens and uplift one another.\\n\\nIn moments of struggle, we often discover allies who inspire us to keep going.\\n\\nRemember, every significant achievement was once considered impossible.\\n\\nFrom landing on the moon to advances in technology, all were born from facing challenges head-on.\\n\\nAs we navigate our personal and professional lives, let’s embrace failure as a stepping stone.\\n\\nEvery great leader has faced adversity; it's how they responded that defined their legacy.\\n\\nWhen we learn to see failures as feedback, we unlock new possibilities.\\n\\nSurround yourself with those who uplift and challenge you.\\n\\nSeek mentors who can guide you through turbulent times.\"),\n",
       " Document(id='7bc86788-e6ac-4593-a4be-c0ec8b5a55f1', metadata={'source': '/media/shubham/shubham SSD2/Generative-AI/Data/speech.txt'}, page_content=\"The path to success is rarely linear; it’s often a winding road filled with detours.\\n\\nBut with determination and perseverance, every roadblock can be turned into a breakthrough.\\n\\nLet’s cultivate a mindset of resilience in ourselves and others.\\n\\nLet’s celebrate small victories as we strive for larger aspirations.\\n\\nAnd let's remind each other that it's okay to ask for help when the climb gets too steep.\\n\\nIn the fabric of life, challenges are the threads that create depth and vibrancy.\\n\\nAs we face our own challenges, let’s hold our heads high and move forward together.\\n\\nIn conclusion, embrace challenges as crucial parts of your journey.\\n\\nFor within them lie the seeds of our greatest achievements.\\n\\nThank you for your time, and let’s continue to inspire and support one another in this beautiful, complex journey of life.\"),\n",
       " Document(id='64b94797-fd60-4429-b2ca-44992ad0eae0', metadata={'source': '/media/shubham/shubham SSD2/Generative-AI/Data/speech.txt'}, page_content='**Title: Embracing Challenges: Our Path to Growth**\\n\\nLadies and gentlemen, esteemed guests,\\n\\nToday, I stand before you to discuss a powerful theme that resonates with each of us: overcoming challenges.\\n\\nLife is a series of peaks and valleys, and it’s during the valleys that true character is revealed.\\n\\nEvery challenge we face is an opportunity to grow stronger, wiser, and more resilient.\\n\\nThink of the obstacles you’ve encountered—each one has shaped you in ways you may not fully realize.\\n\\nIt’s easy to feel daunted by difficulties, but remember: discomfort breeds progress.\\n\\nWhen we push past our limits, we discover the incredible potential within us.\\n\\nConsider the story of Thomas Edison, who famously said, “I have not failed; I’ve just found 10,000 ways that won’t work.”\\n\\nHis relentless pursuit of innovation exemplifies how setbacks can lead to success.\\n\\nEach stumble on our journey is a lesson in disguise.\\n\\nIt teaches us to adapt, to innovate, and to keep moving forward.')]"
      ]
     },
     "execution_count": 12,
     "metadata": {},
     "output_type": "execute_result"
    }
   ],
   "source": [
    "retriver = db.as_retriever()\n",
    "retriver.invoke(query) "
   ]
  },
  {
   "cell_type": "code",
   "execution_count": null,
   "metadata": {},
   "outputs": [],
   "source": []
  }
 ],
 "metadata": {
  "kernelspec": {
   "display_name": "gen",
   "language": "python",
   "name": "python3"
  },
  "language_info": {
   "codemirror_mode": {
    "name": "ipython",
    "version": 3
   },
   "file_extension": ".py",
   "mimetype": "text/x-python",
   "name": "python",
   "nbconvert_exporter": "python",
   "pygments_lexer": "ipython3",
   "version": "3.11.0"
  }
 },
 "nbformat": 4,
 "nbformat_minor": 2
}
