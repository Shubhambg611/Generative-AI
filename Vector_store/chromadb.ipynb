{
 "cells": [
  {
   "cell_type": "markdown",
   "metadata": {},
   "source": [
    "## **Chroma**\n",
    "\n",
    "Chroma is an AI-native open-source vector database focused on developer productivity and happiness. Chroma is licensed under Apache 2.0.\n"
   ]
  },
  {
   "cell_type": "code",
   "execution_count": 2,
   "metadata": {},
   "outputs": [],
   "source": [
    "## sample vector db\n",
    "\n",
    "from langchain_chroma.vectorstores import Chroma\n",
    "from langchain_community.document_loaders import TextLoader\n",
    "from langchain_community.embeddings import OllamaEmbeddings\n",
    "from langchain_text_splitters import CharacterTextSplitter"
   ]
  },
  {
   "cell_type": "code",
   "execution_count": 3,
   "metadata": {},
   "outputs": [
    {
     "data": {
      "text/plain": [
       "[Document(metadata={'source': '/media/shubham/shubham SSD2/Generative-AI/Data/speech.txt'}, page_content=\"\\n**Title: Embracing Challenges: Our Path to Growth**\\n\\nLadies and gentlemen, esteemed guests,\\n\\nToday, I stand before you to discuss a powerful theme that resonates with each of us: overcoming challenges.\\n\\nLife is a series of peaks and valleys, and it’s during the valleys that true character is revealed.\\n\\nEvery challenge we face is an opportunity to grow stronger, wiser, and more resilient.\\n\\nThink of the obstacles you’ve encountered—each one has shaped you in ways you may not fully realize.\\n\\nIt’s easy to feel daunted by difficulties, but remember: discomfort breeds progress.\\n\\nWhen we push past our limits, we discover the incredible potential within us.\\n\\nConsider the story of Thomas Edison, who famously said, “I have not failed; I’ve just found 10,000 ways that won’t work.”\\n\\nHis relentless pursuit of innovation exemplifies how setbacks can lead to success.\\n\\nEach stumble on our journey is a lesson in disguise.\\n\\nIt teaches us to adapt, to innovate, and to keep moving forward.\\n\\nTake, for example, the journey of Nelson Mandela, who faced unimaginable challenges.\\n\\nDespite 27 years of imprisonment, he emerged not with vengeance but with a vision for unity.\\n\\nHis story is a testament to the strength of the human spirit.\\n\\nLet us not forget the role of community in overcoming challenges.\\n\\nTogether, we can shoulder burdens and uplift one another.\\n\\nIn moments of struggle, we often discover allies who inspire us to keep going.\\n\\nRemember, every significant achievement was once considered impossible.\\n\\nFrom landing on the moon to advances in technology, all were born from facing challenges head-on.\\n\\nAs we navigate our personal and professional lives, let’s embrace failure as a stepping stone.\\n\\nEvery great leader has faced adversity; it's how they responded that defined their legacy.\\n\\nWhen we learn to see failures as feedback, we unlock new possibilities.\\n\\nSurround yourself with those who uplift and challenge you.\\n\\nSeek mentors who can guide you through turbulent times.\\n\\nThe path to success is rarely linear; it’s often a winding road filled with detours.\\n\\nBut with determination and perseverance, every roadblock can be turned into a breakthrough.\\n\\nLet’s cultivate a mindset of resilience in ourselves and others.\\n\\nLet’s celebrate small victories as we strive for larger aspirations.\\n\\nAnd let's remind each other that it's okay to ask for help when the climb gets too steep.\\n\\nIn the fabric of life, challenges are the threads that create depth and vibrancy.\\n\\nAs we face our own challenges, let’s hold our heads high and move forward together.\\n\\nIn conclusion, embrace challenges as crucial parts of your journey.\\n\\nFor within them lie the seeds of our greatest achievements.\\n\\nThank you for your time, and let’s continue to inspire and support one another in this beautiful, complex journey of life.\\n\")]"
      ]
     },
     "execution_count": 3,
     "metadata": {},
     "output_type": "execute_result"
    }
   ],
   "source": [
    "loader = TextLoader(\"/media/shubham/shubham SSD2/Generative-AI/Data/speech.txt\")\n",
    "data = loader.load()\n",
    "data"
   ]
  },
  {
   "cell_type": "code",
   "execution_count": 6,
   "metadata": {},
   "outputs": [
    {
     "name": "stderr",
     "output_type": "stream",
     "text": [
      "Created a chunk of size 108, which is longer than the specified 100\n",
      "Created a chunk of size 121, which is longer than the specified 100\n"
     ]
    },
    {
     "data": {
      "text/plain": [
       "[Document(metadata={'source': '/media/shubham/shubham SSD2/Generative-AI/Data/speech.txt'}, page_content='**Title: Embracing Challenges: Our Path to Growth**\\n\\nLadies and gentlemen, esteemed guests,'),\n",
       " Document(metadata={'source': '/media/shubham/shubham SSD2/Generative-AI/Data/speech.txt'}, page_content='Today, I stand before you to discuss a powerful theme that resonates with each of us: overcoming challenges.'),\n",
       " Document(metadata={'source': '/media/shubham/shubham SSD2/Generative-AI/Data/speech.txt'}, page_content='Life is a series of peaks and valleys, and it’s during the valleys that true character is revealed.'),\n",
       " Document(metadata={'source': '/media/shubham/shubham SSD2/Generative-AI/Data/speech.txt'}, page_content='Every challenge we face is an opportunity to grow stronger, wiser, and more resilient.'),\n",
       " Document(metadata={'source': '/media/shubham/shubham SSD2/Generative-AI/Data/speech.txt'}, page_content='Think of the obstacles you’ve encountered—each one has shaped you in ways you may not fully realize.'),\n",
       " Document(metadata={'source': '/media/shubham/shubham SSD2/Generative-AI/Data/speech.txt'}, page_content='It’s easy to feel daunted by difficulties, but remember: discomfort breeds progress.'),\n",
       " Document(metadata={'source': '/media/shubham/shubham SSD2/Generative-AI/Data/speech.txt'}, page_content='When we push past our limits, we discover the incredible potential within us.'),\n",
       " Document(metadata={'source': '/media/shubham/shubham SSD2/Generative-AI/Data/speech.txt'}, page_content='Consider the story of Thomas Edison, who famously said, “I have not failed; I’ve just found 10,000 ways that won’t work.”'),\n",
       " Document(metadata={'source': '/media/shubham/shubham SSD2/Generative-AI/Data/speech.txt'}, page_content='His relentless pursuit of innovation exemplifies how setbacks can lead to success.'),\n",
       " Document(metadata={'source': '/media/shubham/shubham SSD2/Generative-AI/Data/speech.txt'}, page_content='Each stumble on our journey is a lesson in disguise.'),\n",
       " Document(metadata={'source': '/media/shubham/shubham SSD2/Generative-AI/Data/speech.txt'}, page_content='It teaches us to adapt, to innovate, and to keep moving forward.'),\n",
       " Document(metadata={'source': '/media/shubham/shubham SSD2/Generative-AI/Data/speech.txt'}, page_content='Take, for example, the journey of Nelson Mandela, who faced unimaginable challenges.'),\n",
       " Document(metadata={'source': '/media/shubham/shubham SSD2/Generative-AI/Data/speech.txt'}, page_content='Despite 27 years of imprisonment, he emerged not with vengeance but with a vision for unity.'),\n",
       " Document(metadata={'source': '/media/shubham/shubham SSD2/Generative-AI/Data/speech.txt'}, page_content='His story is a testament to the strength of the human spirit.'),\n",
       " Document(metadata={'source': '/media/shubham/shubham SSD2/Generative-AI/Data/speech.txt'}, page_content='Let us not forget the role of community in overcoming challenges.'),\n",
       " Document(metadata={'source': '/media/shubham/shubham SSD2/Generative-AI/Data/speech.txt'}, page_content='Together, we can shoulder burdens and uplift one another.'),\n",
       " Document(metadata={'source': '/media/shubham/shubham SSD2/Generative-AI/Data/speech.txt'}, page_content='In moments of struggle, we often discover allies who inspire us to keep going.'),\n",
       " Document(metadata={'source': '/media/shubham/shubham SSD2/Generative-AI/Data/speech.txt'}, page_content='Remember, every significant achievement was once considered impossible.'),\n",
       " Document(metadata={'source': '/media/shubham/shubham SSD2/Generative-AI/Data/speech.txt'}, page_content='From landing on the moon to advances in technology, all were born from facing challenges head-on.'),\n",
       " Document(metadata={'source': '/media/shubham/shubham SSD2/Generative-AI/Data/speech.txt'}, page_content='As we navigate our personal and professional lives, let’s embrace failure as a stepping stone.'),\n",
       " Document(metadata={'source': '/media/shubham/shubham SSD2/Generative-AI/Data/speech.txt'}, page_content=\"Every great leader has faced adversity; it's how they responded that defined their legacy.\"),\n",
       " Document(metadata={'source': '/media/shubham/shubham SSD2/Generative-AI/Data/speech.txt'}, page_content='When we learn to see failures as feedback, we unlock new possibilities.'),\n",
       " Document(metadata={'source': '/media/shubham/shubham SSD2/Generative-AI/Data/speech.txt'}, page_content='Surround yourself with those who uplift and challenge you.'),\n",
       " Document(metadata={'source': '/media/shubham/shubham SSD2/Generative-AI/Data/speech.txt'}, page_content='Seek mentors who can guide you through turbulent times.'),\n",
       " Document(metadata={'source': '/media/shubham/shubham SSD2/Generative-AI/Data/speech.txt'}, page_content='The path to success is rarely linear; it’s often a winding road filled with detours.'),\n",
       " Document(metadata={'source': '/media/shubham/shubham SSD2/Generative-AI/Data/speech.txt'}, page_content='But with determination and perseverance, every roadblock can be turned into a breakthrough.'),\n",
       " Document(metadata={'source': '/media/shubham/shubham SSD2/Generative-AI/Data/speech.txt'}, page_content='Let’s cultivate a mindset of resilience in ourselves and others.'),\n",
       " Document(metadata={'source': '/media/shubham/shubham SSD2/Generative-AI/Data/speech.txt'}, page_content='Let’s celebrate small victories as we strive for larger aspirations.'),\n",
       " Document(metadata={'source': '/media/shubham/shubham SSD2/Generative-AI/Data/speech.txt'}, page_content=\"And let's remind each other that it's okay to ask for help when the climb gets too steep.\"),\n",
       " Document(metadata={'source': '/media/shubham/shubham SSD2/Generative-AI/Data/speech.txt'}, page_content='In the fabric of life, challenges are the threads that create depth and vibrancy.'),\n",
       " Document(metadata={'source': '/media/shubham/shubham SSD2/Generative-AI/Data/speech.txt'}, page_content='As we face our own challenges, let’s hold our heads high and move forward together.'),\n",
       " Document(metadata={'source': '/media/shubham/shubham SSD2/Generative-AI/Data/speech.txt'}, page_content='In conclusion, embrace challenges as crucial parts of your journey.'),\n",
       " Document(metadata={'source': '/media/shubham/shubham SSD2/Generative-AI/Data/speech.txt'}, page_content='For within them lie the seeds of our greatest achievements.'),\n",
       " Document(metadata={'source': '/media/shubham/shubham SSD2/Generative-AI/Data/speech.txt'}, page_content='Thank you for your time, and let’s continue to inspire and support one another in this beautiful, complex journey of life.')]"
      ]
     },
     "execution_count": 6,
     "metadata": {},
     "output_type": "execute_result"
    }
   ],
   "source": [
    "text_splitter = CharacterTextSplitter(chunk_size=100,chunk_overlap=30) \n",
    "splits = text_splitter.split_documents(data)\n",
    "splits"
   ]
  },
  {
   "cell_type": "code",
   "execution_count": 8,
   "metadata": {},
   "outputs": [
    {
     "name": "stderr",
     "output_type": "stream",
     "text": [
      "/tmp/ipykernel_46044/1032371780.py:3: LangChainDeprecationWarning: The class `HuggingFaceEmbeddings` was deprecated in LangChain 0.2.2 and will be removed in 1.0. An updated version of the class exists in the :class:`~langchain-huggingface package and should be used instead. To use it run `pip install -U :class:`~langchain-huggingface` and import as `from :class:`~langchain_huggingface import HuggingFaceEmbeddings``.\n",
      "  embeddings = HuggingFaceEmbeddings(model_name=\"all-MiniLM-L6-v2\")\n",
      "/home/shubham/anaconda3/envs/gen/lib/python3.11/site-packages/tqdm/auto.py:21: TqdmWarning: IProgress not found. Please update jupyter and ipywidgets. See https://ipywidgets.readthedocs.io/en/stable/user_install.html\n",
      "  from .autonotebook import tqdm as notebook_tqdm\n",
      "2025-01-21 17:21:46.712422: E external/local_xla/xla/stream_executor/cuda/cuda_fft.cc:477] Unable to register cuFFT factory: Attempting to register factory for plugin cuFFT when one has already been registered\n",
      "WARNING: All log messages before absl::InitializeLog() is called are written to STDERR\n",
      "E0000 00:00:1737460306.725450   46044 cuda_dnn.cc:8310] Unable to register cuDNN factory: Attempting to register factory for plugin cuDNN when one has already been registered\n",
      "E0000 00:00:1737460306.729288   46044 cuda_blas.cc:1418] Unable to register cuBLAS factory: Attempting to register factory for plugin cuBLAS when one has already been registered\n",
      "2025-01-21 17:21:46.743777: I tensorflow/core/platform/cpu_feature_guard.cc:210] This TensorFlow binary is optimized to use available CPU instructions in performance-critical operations.\n",
      "To enable the following instructions: AVX2 FMA, in other operations, rebuild TensorFlow with the appropriate compiler flags.\n"
     ]
    }
   ],
   "source": [
    "from langchain.embeddings import HuggingFaceEmbeddings\n",
    "\n",
    "embeddings = HuggingFaceEmbeddings(model_name=\"all-MiniLM-L6-v2\")\n",
    "vectordb = Chroma.from_documents(documents=splits,embedding=embeddings)"
   ]
  },
  {
   "cell_type": "code",
   "execution_count": 9,
   "metadata": {},
   "outputs": [
    {
     "data": {
      "text/plain": [
       "<langchain_chroma.vectorstores.Chroma at 0x7e7ee2930210>"
      ]
     },
     "execution_count": 9,
     "metadata": {},
     "output_type": "execute_result"
    }
   ],
   "source": [
    "vectordb"
   ]
  },
  {
   "cell_type": "code",
   "execution_count": 11,
   "metadata": {},
   "outputs": [
    {
     "data": {
      "text/plain": [
       "'Take, for example, the journey of Nelson Mandela, who faced unimaginable challenges.'"
      ]
     },
     "execution_count": 11,
     "metadata": {},
     "output_type": "execute_result"
    }
   ],
   "source": [
    "### querying vector\n",
    "query = \"the journey of Nelson Mandela, who faced what?\"\n",
    "docs = vectordb.similarity_search(query)\n",
    "docs[0].page_content\n"
   ]
  },
  {
   "cell_type": "code",
   "execution_count": 13,
   "metadata": {},
   "outputs": [
    {
     "data": {
      "text/plain": [
       "[(Document(id='5ed19fe6-7c1c-4618-9545-b48d1a8011e3', metadata={'source': '/media/shubham/shubham SSD2/Generative-AI/Data/speech.txt'}, page_content='Take, for example, the journey of Nelson Mandela, who faced unimaginable challenges.'),\n",
       "  0.6133413910865784),\n",
       " (Document(id='4e7410bb-9898-4a2b-a077-3f8b381eeb66', metadata={'source': '/media/shubham/shubham SSD2/Generative-AI/Data/speech.txt'}, page_content='Despite 27 years of imprisonment, he emerged not with vengeance but with a vision for unity.'),\n",
       "  1.267770528793335),\n",
       " (Document(id='e49411f4-fe77-463e-b1a0-0989e72d9711', metadata={'source': '/media/shubham/shubham SSD2/Generative-AI/Data/speech.txt'}, page_content='His story is a testament to the strength of the human spirit.'),\n",
       "  1.315242052078247),\n",
       " (Document(id='533abf84-1c85-453e-b89b-7c6aff46b6cb', metadata={'source': '/media/shubham/shubham SSD2/Generative-AI/Data/speech.txt'}, page_content=\"Every great leader has faced adversity; it's how they responded that defined their legacy.\"),\n",
       "  1.398141622543335)]"
      ]
     },
     "execution_count": 13,
     "metadata": {},
     "output_type": "execute_result"
    }
   ],
   "source": [
    "docs_and_scores = vectordb.similarity_search_with_score(query)\n",
    "docs_and_scores"
   ]
  },
  {
   "cell_type": "code",
   "execution_count": 14,
   "metadata": {},
   "outputs": [],
   "source": [
    "## saving to disk\n",
    "\n",
    "vectordb = Chroma.from_documents(documents=splits,embedding=embeddings,persist_directory=\"/media/shubham/shubham SSD2/Generative-AI/Vector_store/chroma_db\")"
   ]
  },
  {
   "cell_type": "code",
   "execution_count": 19,
   "metadata": {},
   "outputs": [
    {
     "data": {
      "text/plain": [
       "[(Document(id='80fe1a4c-cdc9-4784-b6e7-01d829454119', metadata={'source': '/media/shubham/shubham SSD2/Generative-AI/Data/speech.txt'}, page_content='Take, for example, the journey of Nelson Mandela, who faced unimaginable challenges.'),\n",
       "  0.6133413869201049),\n",
       " (Document(id='f75095c7-89b2-4217-963d-86da45b4df41', metadata={'source': '/media/shubham/shubham SSD2/Generative-AI/Data/speech.txt'}, page_content='Despite 27 years of imprisonment, he emerged not with vengeance but with a vision for unity.'),\n",
       "  1.2677704548373365),\n",
       " (Document(id='8dc22735-5cec-43f3-91d2-af2147a3ad05', metadata={'source': '/media/shubham/shubham SSD2/Generative-AI/Data/speech.txt'}, page_content='His story is a testament to the strength of the human spirit.'),\n",
       "  1.3152419282035877),\n",
       " (Document(id='a1d16f0f-6ca6-489d-bcab-4d34e258b282', metadata={'source': '/media/shubham/shubham SSD2/Generative-AI/Data/speech.txt'}, page_content=\"Every great leader has faced adversity; it's how they responded that defined their legacy.\"),\n",
       "  1.398141699049331)]"
      ]
     },
     "execution_count": 19,
     "metadata": {},
     "output_type": "execute_result"
    }
   ],
   "source": [
    "db2 = Chroma(persist_directory=\"/media/shubham/shubham SSD2/Generative-AI/Vector_store/chroma_db\",embedding_function=embeddings)\n",
    "docs = db2.similarity_search_with_score(query)\n",
    "docs"
   ]
  },
  {
   "cell_type": "code",
   "execution_count": 20,
   "metadata": {},
   "outputs": [
    {
     "name": "stdout",
     "output_type": "stream",
     "text": [
      "(Document(id='80fe1a4c-cdc9-4784-b6e7-01d829454119', metadata={'source': '/media/shubham/shubham SSD2/Generative-AI/Data/speech.txt'}, page_content='Take, for example, the journey of Nelson Mandela, who faced unimaginable challenges.'), 0.6133413869201049)\n"
     ]
    }
   ],
   "source": [
    "print(docs[0])"
   ]
  },
  {
   "cell_type": "code",
   "execution_count": null,
   "metadata": {},
   "outputs": [],
   "source": []
  }
 ],
 "metadata": {
  "kernelspec": {
   "display_name": "gen",
   "language": "python",
   "name": "python3"
  },
  "language_info": {
   "codemirror_mode": {
    "name": "ipython",
    "version": 3
   },
   "file_extension": ".py",
   "mimetype": "text/x-python",
   "name": "python",
   "nbconvert_exporter": "python",
   "pygments_lexer": "ipython3",
   "version": "3.11.0"
  }
 },
 "nbformat": 4,
 "nbformat_minor": 2
}
